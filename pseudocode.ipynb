{
 "cells": [
  {
   "cell_type": "markdown",
   "metadata": {},
   "source": [
    "<!-- INIT -->\n",
    "\n",
    "Would you like to read a save file?\n",
    "\n",
    "[1] Yes\n",
    "[2] No\n",
    "\n",
    "Enter text file to read (example.txt):"
   ]
  },
  {
   "cell_type": "markdown",
   "metadata": {},
   "source": [
    "<!-- MENU -->\n",
    "\n",
    "<!-- display: -->\n",
    "[1] Fare Calculation\n",
    "[2] Display Fare Matrix\n",
    "[3] Check History\n",
    "[4] Exit\n",
    "\n",
    "Input:"
   ]
  },
  {
   "cell_type": "markdown",
   "metadata": {},
   "source": [
    "<!-- Upon selecting Fare Calculation: -->\n",
    "\n",
    "Select starting point:\n",
    "[1] Holy Spirit Hospital\n",
    "[2] CHSS/Admin/Library/EBL\n",
    "[3] College of Science and Mathematics\n",
    "[4] Davao City Sports Complex\n",
    "\n",
    "\n",
    "End point: Admin\n",
    "\n",
    "How many passengers going to {EndPointString}:\n",
    "\n",
    "Result: \n",
    "\n"
   ]
  }
 ],
 "metadata": {
  "language_info": {
   "name": "python"
  }
 },
 "nbformat": 4,
 "nbformat_minor": 2
}
